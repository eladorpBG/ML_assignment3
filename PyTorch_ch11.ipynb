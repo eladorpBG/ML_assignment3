{
  "cells": [
    {
      "cell_type": "markdown",
      "metadata": {
        "id": "view-in-github",
        "colab_type": "text"
      },
      "source": [
        "<a href=\"https://colab.research.google.com/github/eladorpBG/ML_assignment3/blob/main/PyTorch_ch11.ipynb\" target=\"_parent\"><img src=\"https://colab.research.google.com/assets/colab-badge.svg\" alt=\"Open In Colab\"/></a>"
      ]
    },
    {
      "cell_type": "markdown",
      "source": [
        "**PyTorch Implementation**"
      ],
      "metadata": {
        "id": "NbBsVlz7lET4"
      }
    },
    {
      "cell_type": "code",
      "source": [
        "!pip install torch"
      ],
      "metadata": {
        "colab": {
          "base_uri": "https://localhost:8080/"
        },
        "id": "EB5gzTk90OGD",
        "outputId": "502eb646-3170-44e0-e4f3-d02a058ed913",
        "collapsed": true
      },
      "execution_count": 7,
      "outputs": [
        {
          "output_type": "stream",
          "name": "stdout",
          "text": [
            "Requirement already satisfied: torch in /usr/local/lib/python3.11/dist-packages (2.5.1+cu121)\n",
            "Requirement already satisfied: filelock in /usr/local/lib/python3.11/dist-packages (from torch) (3.16.1)\n",
            "Requirement already satisfied: typing-extensions>=4.8.0 in /usr/local/lib/python3.11/dist-packages (from torch) (4.12.2)\n",
            "Requirement already satisfied: networkx in /usr/local/lib/python3.11/dist-packages (from torch) (3.4.2)\n",
            "Requirement already satisfied: jinja2 in /usr/local/lib/python3.11/dist-packages (from torch) (3.1.5)\n",
            "Requirement already satisfied: fsspec in /usr/local/lib/python3.11/dist-packages (from torch) (2024.10.0)\n",
            "Requirement already satisfied: nvidia-cuda-nvrtc-cu12==12.1.105 in /usr/local/lib/python3.11/dist-packages (from torch) (12.1.105)\n",
            "Requirement already satisfied: nvidia-cuda-runtime-cu12==12.1.105 in /usr/local/lib/python3.11/dist-packages (from torch) (12.1.105)\n",
            "Requirement already satisfied: nvidia-cuda-cupti-cu12==12.1.105 in /usr/local/lib/python3.11/dist-packages (from torch) (12.1.105)\n",
            "Requirement already satisfied: nvidia-cudnn-cu12==9.1.0.70 in /usr/local/lib/python3.11/dist-packages (from torch) (9.1.0.70)\n",
            "Requirement already satisfied: nvidia-cublas-cu12==12.1.3.1 in /usr/local/lib/python3.11/dist-packages (from torch) (12.1.3.1)\n",
            "Requirement already satisfied: nvidia-cufft-cu12==11.0.2.54 in /usr/local/lib/python3.11/dist-packages (from torch) (11.0.2.54)\n",
            "Requirement already satisfied: nvidia-curand-cu12==10.3.2.106 in /usr/local/lib/python3.11/dist-packages (from torch) (10.3.2.106)\n",
            "Requirement already satisfied: nvidia-cusolver-cu12==11.4.5.107 in /usr/local/lib/python3.11/dist-packages (from torch) (11.4.5.107)\n",
            "Requirement already satisfied: nvidia-cusparse-cu12==12.1.0.106 in /usr/local/lib/python3.11/dist-packages (from torch) (12.1.0.106)\n",
            "Requirement already satisfied: nvidia-nccl-cu12==2.21.5 in /usr/local/lib/python3.11/dist-packages (from torch) (2.21.5)\n",
            "Requirement already satisfied: nvidia-nvtx-cu12==12.1.105 in /usr/local/lib/python3.11/dist-packages (from torch) (12.1.105)\n",
            "Requirement already satisfied: triton==3.1.0 in /usr/local/lib/python3.11/dist-packages (from torch) (3.1.0)\n",
            "Requirement already satisfied: sympy==1.13.1 in /usr/local/lib/python3.11/dist-packages (from torch) (1.13.1)\n",
            "Requirement already satisfied: nvidia-nvjitlink-cu12 in /usr/local/lib/python3.11/dist-packages (from nvidia-cusolver-cu12==11.4.5.107->torch) (12.6.85)\n",
            "Requirement already satisfied: mpmath<1.4,>=1.1.0 in /usr/local/lib/python3.11/dist-packages (from sympy==1.13.1->torch) (1.3.0)\n",
            "Requirement already satisfied: MarkupSafe>=2.0 in /usr/local/lib/python3.11/dist-packages (from jinja2->torch) (3.0.2)\n"
          ]
        }
      ]
    },
    {
      "cell_type": "code",
      "source": [
        "import torch\n",
        "import torch.nn as nn\n",
        "import torch.optim as optim\n",
        "from torch.utils.data import DataLoader, Subset, random_split\n",
        "from torchvision import datasets, transforms\n",
        "\n",
        "# Define transformations\n",
        "transform = transforms.Compose([\n",
        "    transforms.ToTensor(),\n",
        "    transforms.Normalize((0.5,), (0.5,))  # Normalize to [-1, 1]\n",
        "])\n",
        "\n",
        "# Load the entire MNIST dataset (train + test combined)\n",
        "full_dataset = datasets.MNIST(root='./data', train=True, transform=transform, download=True)\n",
        "test_dataset_original = datasets.MNIST(root='./data', train=False, transform=transform, download=True)\n",
        "\n",
        "# Combine the train and test datasets\n",
        "full_dataset = torch.utils.data.ConcatDataset([full_dataset, test_dataset_original])\n",
        "\n",
        "# Compute sizes for train (70%) and test (30%) split\n",
        "total_size = len(full_dataset)\n",
        "train_size = int(0.7 * total_size)\n",
        "test_size = total_size - train_size\n",
        "\n",
        "# Split the full dataset\n",
        "train_dataset, test_dataset = random_split(full_dataset, [train_size, test_size])\n",
        "\n",
        "# Split train dataset into train and validation datasets\n",
        "val_size = 5000\n",
        "train_size_final = train_size - val_size\n",
        "\n",
        "train_dataset, val_dataset = random_split(train_dataset, [train_size_final, val_size])\n",
        "\n",
        "# Create DataLoaders for bathces\n",
        "batch_size = 200\n",
        "train_loader = DataLoader(train_dataset, batch_size=batch_size, shuffle=True)\n",
        "val_loader = DataLoader(val_dataset, batch_size=batch_size, shuffle=True)\n",
        "test_loader = DataLoader(test_dataset, batch_size=batch_size, shuffle=False)"
      ],
      "metadata": {
        "collapsed": true,
        "id": "f6CEnBEW86Ja"
      },
      "execution_count": 16,
      "outputs": []
    },
    {
      "cell_type": "code",
      "source": [
        "# Define the ANN Model\n",
        "class ANN(nn.Module):\n",
        "    def __init__(self, input_size, hidden1_size, hidden2_size, output_size):\n",
        "        super(ANN, self).__init__()\n",
        "        self.fc1 = nn.Linear(input_size, hidden1_size)\n",
        "        self.fc2 = nn.Linear(hidden1_size, hidden2_size)\n",
        "        self.fc3 = nn.Linear(hidden2_size, output_size)\n",
        "        self.sigmoid = nn.Sigmoid()\n",
        "        self.relu = nn.ReLU()\n",
        "        self.softmax = nn.Softmax(dim=1)\n",
        "\n",
        "    def forward(self, x):\n",
        "        x = x.view(x.size(0), -1)  # Flatten the input\n",
        "        x = self.relu(self.fc1(x))\n",
        "        x = self.relu(self.fc2(x))\n",
        "        x = self.softmax(self.fc3(x))  # Output layer with Softmax activation\n",
        "        return x"
      ],
      "metadata": {
        "id": "RrRba_yZBCzn"
      },
      "execution_count": 18,
      "outputs": []
    },
    {
      "cell_type": "code",
      "source": [
        "# Hyperparameters\n",
        "input_size = 28 * 28  # MNIST images are 28x28 pixels\n",
        "hidden1_size = 500\n",
        "hidden2_size = 500\n",
        "output_size = 10\n",
        "learning_rate = 0.1\n",
        "num_epochs = 20\n",
        "\n",
        "# Initialize the model, loss function, and optimizer\n",
        "model = ANN(input_size, hidden1_size, hidden2_size, output_size)\n",
        "criterion = nn.MSELoss()\n",
        "optimizer = optim.SGD(model.parameters(), lr=learning_rate)\n",
        "\n",
        "# Training Loop\n",
        "for epoch in range(num_epochs):\n",
        "    model.train()  # Set model to training mode\n",
        "    train_loss = 0\n",
        "    for images, labels in train_loader:\n",
        "        # Convert labels to one-hot encoding\n",
        "        labels_one_hot = torch.zeros(labels.size(0), output_size)\n",
        "        labels_one_hot.scatter_(1, labels.unsqueeze(1), 1)\n",
        "\n",
        "        optimizer.zero_grad()  # Clear gradients\n",
        "        outputs = model(images)  # Forward pass\n",
        "        loss = criterion(outputs, labels_one_hot)  # Compute loss\n",
        "        loss.backward()  # Backpropagation\n",
        "        optimizer.step()  # Update weights\n",
        "        train_loss += loss.item()\n",
        "\n",
        "    train_loss /= len(train_loader)\n",
        "\n",
        "    # Validation\n",
        "    model.eval()  # Set model to evaluation mode\n",
        "    val_loss = 0\n",
        "    correct = 0\n",
        "    with torch.no_grad():  # Disable gradient computation for validation\n",
        "        for images, labels in val_loader:\n",
        "            labels_one_hot = torch.zeros(labels.size(0), output_size)\n",
        "            labels_one_hot.scatter_(1, labels.unsqueeze(1), 1)\n",
        "\n",
        "            outputs = model(images)\n",
        "            loss = criterion(outputs, labels_one_hot)\n",
        "            val_loss += loss.item()\n",
        "            _, predicted = torch.max(outputs, 1)\n",
        "            correct += (predicted == labels).sum().item()\n",
        "\n",
        "    val_loss /= len(val_loader)\n",
        "    val_accuracy = 100 * correct / len(val_dataset)\n",
        "\n",
        "    print(f\"Epoch [{epoch+1}/{num_epochs}], Train Loss: {train_loss:.4f}, Val Loss: {val_loss:.4f}, Val Accuracy: {val_accuracy:.2f}%\")\n"
      ],
      "metadata": {
        "colab": {
          "base_uri": "https://localhost:8080/"
        },
        "id": "6Y4aeTWsSImp",
        "outputId": "50627234-66cd-424f-91a7-423665e4cd13"
      },
      "execution_count": 19,
      "outputs": [
        {
          "output_type": "stream",
          "name": "stdout",
          "text": [
            "Epoch [1/20], Train Loss: 0.0888, Val Loss: 0.0872, Val Accuracy: 47.74%\n",
            "Epoch [2/20], Train Loss: 0.0845, Val Loss: 0.0803, Val Accuracy: 44.30%\n",
            "Epoch [3/20], Train Loss: 0.0728, Val Loss: 0.0637, Val Accuracy: 58.30%\n",
            "Epoch [4/20], Train Loss: 0.0551, Val Loss: 0.0463, Val Accuracy: 74.52%\n",
            "Epoch [5/20], Train Loss: 0.0405, Val Loss: 0.0347, Val Accuracy: 79.84%\n",
            "Epoch [6/20], Train Loss: 0.0312, Val Loss: 0.0273, Val Accuracy: 85.42%\n",
            "Epoch [7/20], Train Loss: 0.0254, Val Loss: 0.0229, Val Accuracy: 87.08%\n",
            "Epoch [8/20], Train Loss: 0.0219, Val Loss: 0.0204, Val Accuracy: 87.98%\n",
            "Epoch [9/20], Train Loss: 0.0198, Val Loss: 0.0186, Val Accuracy: 88.72%\n",
            "Epoch [10/20], Train Loss: 0.0184, Val Loss: 0.0174, Val Accuracy: 89.48%\n",
            "Epoch [11/20], Train Loss: 0.0173, Val Loss: 0.0166, Val Accuracy: 89.66%\n",
            "Epoch [12/20], Train Loss: 0.0165, Val Loss: 0.0160, Val Accuracy: 89.90%\n",
            "Epoch [13/20], Train Loss: 0.0159, Val Loss: 0.0154, Val Accuracy: 90.22%\n",
            "Epoch [14/20], Train Loss: 0.0154, Val Loss: 0.0149, Val Accuracy: 90.30%\n",
            "Epoch [15/20], Train Loss: 0.0149, Val Loss: 0.0146, Val Accuracy: 90.62%\n",
            "Epoch [16/20], Train Loss: 0.0146, Val Loss: 0.0142, Val Accuracy: 90.96%\n",
            "Epoch [17/20], Train Loss: 0.0142, Val Loss: 0.0141, Val Accuracy: 90.98%\n",
            "Epoch [18/20], Train Loss: 0.0140, Val Loss: 0.0137, Val Accuracy: 91.16%\n",
            "Epoch [19/20], Train Loss: 0.0137, Val Loss: 0.0135, Val Accuracy: 91.24%\n",
            "Epoch [20/20], Train Loss: 0.0135, Val Loss: 0.0134, Val Accuracy: 91.16%\n"
          ]
        }
      ]
    },
    {
      "cell_type": "code",
      "source": [
        "# Testing\n",
        "model.eval()\n",
        "test_loss = 0\n",
        "correct = 0\n",
        "with torch.no_grad():\n",
        "    for images, labels in test_loader:\n",
        "        labels_one_hot = torch.zeros(labels.size(0), output_size)\n",
        "        labels_one_hot.scatter_(1, labels.unsqueeze(1), 1)\n",
        "\n",
        "        outputs = model(images)\n",
        "        loss = criterion(outputs, labels_one_hot)\n",
        "        test_loss += loss.item()\n",
        "        _, predicted = torch.max(outputs, 1)\n",
        "        correct += (predicted == labels).sum().item()\n",
        "\n",
        "test_loss /= len(test_loader)\n",
        "test_accuracy = 100 * correct / len(test_dataset)\n",
        "\n",
        "print(f\"Test Loss: {test_loss:.4f}, Test Accuracy: {test_accuracy:.2f}%\")"
      ],
      "metadata": {
        "colab": {
          "base_uri": "https://localhost:8080/"
        },
        "id": "ZB2hzyD2Tsnw",
        "outputId": "3773a7ff-359c-4ef9-afde-cfaab4d53034"
      },
      "execution_count": 20,
      "outputs": [
        {
          "output_type": "stream",
          "name": "stdout",
          "text": [
            "Test Loss: 0.0140, Test Accuracy: 90.99%\n"
          ]
        }
      ]
    }
  ],
  "metadata": {
    "anaconda-cloud": {},
    "kernelspec": {
      "display_name": "Python 3",
      "name": "python3"
    },
    "language_info": {
      "codemirror_mode": {
        "name": "ipython",
        "version": 3
      },
      "file_extension": ".py",
      "mimetype": "text/x-python",
      "name": "python",
      "nbconvert_exporter": "python",
      "pygments_lexer": "ipython3",
      "version": "3.10.6"
    },
    "colab": {
      "provenance": [],
      "include_colab_link": true
    }
  },
  "nbformat": 4,
  "nbformat_minor": 0
}