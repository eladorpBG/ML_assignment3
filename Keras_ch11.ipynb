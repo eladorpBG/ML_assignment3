{
  "nbformat": 4,
  "nbformat_minor": 0,
  "metadata": {
    "colab": {
      "provenance": [],
      "authorship_tag": "ABX9TyM/pnPWcRloF2uE7fdPWmzT",
      "include_colab_link": true
    },
    "kernelspec": {
      "name": "python3",
      "display_name": "Python 3"
    },
    "language_info": {
      "name": "python"
    }
  },
  "cells": [
    {
      "cell_type": "markdown",
      "metadata": {
        "id": "view-in-github",
        "colab_type": "text"
      },
      "source": [
        "<a href=\"https://colab.research.google.com/github/eladorpBG/ML_assignment3/blob/main/Keras_ch11.ipynb\" target=\"_parent\"><img src=\"https://colab.research.google.com/assets/colab-badge.svg\" alt=\"Open In Colab\"/></a>"
      ]
    },
    {
      "cell_type": "markdown",
      "source": [
        "**Keras Implementation**"
      ],
      "metadata": {
        "id": "Wr8ahhCSoD_8"
      }
    },
    {
      "cell_type": "code",
      "source": [
        "!pip install tensorflow"
      ],
      "metadata": {
        "colab": {
          "base_uri": "https://localhost:8080/"
        },
        "collapsed": true,
        "id": "hn9tAoHqoAyv",
        "outputId": "babacf17-feb1-4af7-8689-b01762de098a"
      },
      "execution_count": 1,
      "outputs": [
        {
          "output_type": "stream",
          "name": "stdout",
          "text": [
            "Requirement already satisfied: tensorflow in /usr/local/lib/python3.11/dist-packages (2.17.1)\n",
            "Requirement already satisfied: absl-py>=1.0.0 in /usr/local/lib/python3.11/dist-packages (from tensorflow) (1.4.0)\n",
            "Requirement already satisfied: astunparse>=1.6.0 in /usr/local/lib/python3.11/dist-packages (from tensorflow) (1.6.3)\n",
            "Requirement already satisfied: flatbuffers>=24.3.25 in /usr/local/lib/python3.11/dist-packages (from tensorflow) (24.12.23)\n",
            "Requirement already satisfied: gast!=0.5.0,!=0.5.1,!=0.5.2,>=0.2.1 in /usr/local/lib/python3.11/dist-packages (from tensorflow) (0.6.0)\n",
            "Requirement already satisfied: google-pasta>=0.1.1 in /usr/local/lib/python3.11/dist-packages (from tensorflow) (0.2.0)\n",
            "Requirement already satisfied: h5py>=3.10.0 in /usr/local/lib/python3.11/dist-packages (from tensorflow) (3.12.1)\n",
            "Requirement already satisfied: libclang>=13.0.0 in /usr/local/lib/python3.11/dist-packages (from tensorflow) (18.1.1)\n",
            "Requirement already satisfied: ml-dtypes<0.5.0,>=0.3.1 in /usr/local/lib/python3.11/dist-packages (from tensorflow) (0.4.1)\n",
            "Requirement already satisfied: opt-einsum>=2.3.2 in /usr/local/lib/python3.11/dist-packages (from tensorflow) (3.4.0)\n",
            "Requirement already satisfied: packaging in /usr/local/lib/python3.11/dist-packages (from tensorflow) (24.2)\n",
            "Requirement already satisfied: protobuf!=4.21.0,!=4.21.1,!=4.21.2,!=4.21.3,!=4.21.4,!=4.21.5,<5.0.0dev,>=3.20.3 in /usr/local/lib/python3.11/dist-packages (from tensorflow) (4.25.5)\n",
            "Requirement already satisfied: requests<3,>=2.21.0 in /usr/local/lib/python3.11/dist-packages (from tensorflow) (2.32.3)\n",
            "Requirement already satisfied: setuptools in /usr/local/lib/python3.11/dist-packages (from tensorflow) (75.1.0)\n",
            "Requirement already satisfied: six>=1.12.0 in /usr/local/lib/python3.11/dist-packages (from tensorflow) (1.17.0)\n",
            "Requirement already satisfied: termcolor>=1.1.0 in /usr/local/lib/python3.11/dist-packages (from tensorflow) (2.5.0)\n",
            "Requirement already satisfied: typing-extensions>=3.6.6 in /usr/local/lib/python3.11/dist-packages (from tensorflow) (4.12.2)\n",
            "Requirement already satisfied: wrapt>=1.11.0 in /usr/local/lib/python3.11/dist-packages (from tensorflow) (1.17.0)\n",
            "Requirement already satisfied: grpcio<2.0,>=1.24.3 in /usr/local/lib/python3.11/dist-packages (from tensorflow) (1.69.0)\n",
            "Requirement already satisfied: tensorboard<2.18,>=2.17 in /usr/local/lib/python3.11/dist-packages (from tensorflow) (2.17.1)\n",
            "Requirement already satisfied: keras>=3.2.0 in /usr/local/lib/python3.11/dist-packages (from tensorflow) (3.5.0)\n",
            "Requirement already satisfied: tensorflow-io-gcs-filesystem>=0.23.1 in /usr/local/lib/python3.11/dist-packages (from tensorflow) (0.37.1)\n",
            "Requirement already satisfied: numpy<2.0.0,>=1.23.5 in /usr/local/lib/python3.11/dist-packages (from tensorflow) (1.26.4)\n",
            "Requirement already satisfied: wheel<1.0,>=0.23.0 in /usr/local/lib/python3.11/dist-packages (from astunparse>=1.6.0->tensorflow) (0.45.1)\n",
            "Requirement already satisfied: rich in /usr/local/lib/python3.11/dist-packages (from keras>=3.2.0->tensorflow) (13.9.4)\n",
            "Requirement already satisfied: namex in /usr/local/lib/python3.11/dist-packages (from keras>=3.2.0->tensorflow) (0.0.8)\n",
            "Requirement already satisfied: optree in /usr/local/lib/python3.11/dist-packages (from keras>=3.2.0->tensorflow) (0.13.1)\n",
            "Requirement already satisfied: charset-normalizer<4,>=2 in /usr/local/lib/python3.11/dist-packages (from requests<3,>=2.21.0->tensorflow) (3.4.1)\n",
            "Requirement already satisfied: idna<4,>=2.5 in /usr/local/lib/python3.11/dist-packages (from requests<3,>=2.21.0->tensorflow) (3.10)\n",
            "Requirement already satisfied: urllib3<3,>=1.21.1 in /usr/local/lib/python3.11/dist-packages (from requests<3,>=2.21.0->tensorflow) (2.3.0)\n",
            "Requirement already satisfied: certifi>=2017.4.17 in /usr/local/lib/python3.11/dist-packages (from requests<3,>=2.21.0->tensorflow) (2024.12.14)\n",
            "Requirement already satisfied: markdown>=2.6.8 in /usr/local/lib/python3.11/dist-packages (from tensorboard<2.18,>=2.17->tensorflow) (3.7)\n",
            "Requirement already satisfied: tensorboard-data-server<0.8.0,>=0.7.0 in /usr/local/lib/python3.11/dist-packages (from tensorboard<2.18,>=2.17->tensorflow) (0.7.2)\n",
            "Requirement already satisfied: werkzeug>=1.0.1 in /usr/local/lib/python3.11/dist-packages (from tensorboard<2.18,>=2.17->tensorflow) (3.1.3)\n",
            "Requirement already satisfied: MarkupSafe>=2.1.1 in /usr/local/lib/python3.11/dist-packages (from werkzeug>=1.0.1->tensorboard<2.18,>=2.17->tensorflow) (3.0.2)\n",
            "Requirement already satisfied: markdown-it-py>=2.2.0 in /usr/local/lib/python3.11/dist-packages (from rich->keras>=3.2.0->tensorflow) (3.0.0)\n",
            "Requirement already satisfied: pygments<3.0.0,>=2.13.0 in /usr/local/lib/python3.11/dist-packages (from rich->keras>=3.2.0->tensorflow) (2.18.0)\n",
            "Requirement already satisfied: mdurl~=0.1 in /usr/local/lib/python3.11/dist-packages (from markdown-it-py>=2.2.0->rich->keras>=3.2.0->tensorflow) (0.1.2)\n"
          ]
        }
      ]
    },
    {
      "cell_type": "code",
      "execution_count": 23,
      "metadata": {
        "id": "dxV_HZZDleZU"
      },
      "outputs": [],
      "source": [
        "import numpy as np\n",
        "import tensorflow as tf\n",
        "from tensorflow.keras import layers, models\n",
        "from tensorflow.keras.optimizers import SGD\n",
        "from tensorflow.keras.utils import to_categorical\n",
        "from tensorflow.keras.datasets import mnist\n",
        "from tensorflow.keras import initializers\n",
        "\n",
        "# Load the MNIST dataset (train + test)\n",
        "(train_images, train_labels), (test_images, test_labels) = mnist.load_data()\n",
        "\n",
        "# Combine the train and test datasets to create the full dataset\n",
        "full_data_images = np.concatenate([train_images, test_images], axis=0)\n",
        "full_data_labels = np.concatenate([train_labels, test_labels], axis=0)\n",
        "\n",
        "# Normalize the images to the range [0, 1]\n",
        "full_data_images = ((full_data_images.astype('float32') / 255.0) - .5) * 2\n",
        "\n",
        "# Flatten the images to 1D vector (28x28 = 784)\n",
        "full_data_images = full_data_images.reshape(full_data_images.shape[0], 28 * 28)\n",
        "\n",
        "# Convert labels to one-hot encoding\n",
        "full_data_labels = to_categorical(full_data_labels, 10)\n",
        "\n",
        "# Split the full dataset into train (70%) and test (30%)\n",
        "train_size = int(0.7 * full_data_images.shape[0])\n",
        "test_size = full_data_images.shape[0] - train_size\n",
        "\n",
        "train_images = full_data_images[:train_size]\n",
        "train_labels = full_data_labels[:train_size]\n",
        "test_images = full_data_images[train_size:]\n",
        "test_labels = full_data_labels[train_size:]\n",
        "\n",
        "# Split the training set into train and validation (70% train, 30% test)\n",
        "val_size = 5000\n",
        "train_images, val_images = train_images[:-val_size], train_images[-val_size:]\n",
        "train_labels, val_labels = train_labels[:-val_size], train_labels[-val_size:]\n"
      ]
    },
    {
      "cell_type": "code",
      "source": [
        "from tensorflow.keras.metrics import AUC\n",
        "\n",
        "# Build the model\n",
        "model = models.Sequential()\n",
        "\n",
        "# Add the first hidden layer with 500 neurons and sigmoid activation\n",
        "model.add(layers.Dense(units=500, input_dim=28*28, activation='sigmoid', kernel_initializer=initializers.HeNormal()))\n",
        "\n",
        "# Add the second hidden layer with 500 neurons and sigmoid activation\n",
        "model.add(layers.Dense(units=500, activation='sigmoid', kernel_initializer=initializers.HeNormal()))\n",
        "\n",
        "# Add the output layer with 10 neurons and softmax activation\n",
        "model.add(layers.Dense(units=10, activation='sigmoid', kernel_initializer=initializers.HeNormal()))\n",
        "\n",
        "# Compile the model\n",
        "optimizer = SGD(learning_rate=0.1)\n",
        "model.compile(loss='mse', optimizer=optimizer, metrics=[AUC()])\n"
      ],
      "metadata": {
        "id": "4161W6TRoztI"
      },
      "execution_count": 38,
      "outputs": []
    },
    {
      "cell_type": "code",
      "source": [
        "# Train the model\n",
        "history = model.fit(\n",
        "    train_images, train_labels,\n",
        "    validation_data=(val_images, val_labels),\n",
        "    epochs=25,\n",
        "    batch_size=200\n",
        ")\n",
        "\n",
        "# Evaluate the model on the test set\n",
        "test_loss, test_auc = model.evaluate(test_images, test_labels)\n",
        "print(f\"Test Loss: {test_loss:.4f}\")\n",
        "print(f\"Test AUC: {test_auc * 100:.2f}%\")"
      ],
      "metadata": {
        "colab": {
          "base_uri": "https://localhost:8080/"
        },
        "collapsed": true,
        "id": "97XMZIknrSl8",
        "outputId": "9fd28131-e7c2-4bcd-fc90-5728a9e6027e"
      },
      "execution_count": 39,
      "outputs": [
        {
          "output_type": "stream",
          "name": "stdout",
          "text": [
            "Epoch 1/25\n",
            "\u001b[1m220/220\u001b[0m \u001b[32m━━━━━━━━━━━━━━━━━━━━\u001b[0m\u001b[37m\u001b[0m \u001b[1m5s\u001b[0m 20ms/step - auc_6: 0.5410 - loss: 0.1061 - val_auc_6: 0.6128 - val_loss: 0.0892\n",
            "Epoch 2/25\n",
            "\u001b[1m220/220\u001b[0m \u001b[32m━━━━━━━━━━━━━━━━━━━━\u001b[0m\u001b[37m\u001b[0m \u001b[1m6s\u001b[0m 26ms/step - auc_6: 0.6357 - loss: 0.0890 - val_auc_6: 0.7070 - val_loss: 0.0885\n",
            "Epoch 3/25\n",
            "\u001b[1m220/220\u001b[0m \u001b[32m━━━━━━━━━━━━━━━━━━━━\u001b[0m\u001b[37m\u001b[0m \u001b[1m9s\u001b[0m 22ms/step - auc_6: 0.7060 - loss: 0.0883 - val_auc_6: 0.7145 - val_loss: 0.0878\n",
            "Epoch 4/25\n",
            "\u001b[1m220/220\u001b[0m \u001b[32m━━━━━━━━━━━━━━━━━━━━\u001b[0m\u001b[37m\u001b[0m \u001b[1m7s\u001b[0m 30ms/step - auc_6: 0.7260 - loss: 0.0875 - val_auc_6: 0.7338 - val_loss: 0.0869\n",
            "Epoch 5/25\n",
            "\u001b[1m220/220\u001b[0m \u001b[32m━━━━━━━━━━━━━━━━━━━━\u001b[0m\u001b[37m\u001b[0m \u001b[1m8s\u001b[0m 18ms/step - auc_6: 0.7469 - loss: 0.0866 - val_auc_6: 0.7714 - val_loss: 0.0859\n",
            "Epoch 6/25\n",
            "\u001b[1m220/220\u001b[0m \u001b[32m━━━━━━━━━━━━━━━━━━━━\u001b[0m\u001b[37m\u001b[0m \u001b[1m6s\u001b[0m 27ms/step - auc_6: 0.7749 - loss: 0.0856 - val_auc_6: 0.7959 - val_loss: 0.0848\n",
            "Epoch 7/25\n",
            "\u001b[1m220/220\u001b[0m \u001b[32m━━━━━━━━━━━━━━━━━━━━\u001b[0m\u001b[37m\u001b[0m \u001b[1m8s\u001b[0m 19ms/step - auc_6: 0.7992 - loss: 0.0844 - val_auc_6: 0.8112 - val_loss: 0.0834\n",
            "Epoch 8/25\n",
            "\u001b[1m220/220\u001b[0m \u001b[32m━━━━━━━━━━━━━━━━━━━━\u001b[0m\u001b[37m\u001b[0m \u001b[1m8s\u001b[0m 35ms/step - auc_6: 0.8157 - loss: 0.0830 - val_auc_6: 0.8322 - val_loss: 0.0818\n",
            "Epoch 9/25\n",
            "\u001b[1m220/220\u001b[0m \u001b[32m━━━━━━━━━━━━━━━━━━━━\u001b[0m\u001b[37m\u001b[0m \u001b[1m7s\u001b[0m 19ms/step - auc_6: 0.8353 - loss: 0.0813 - val_auc_6: 0.8612 - val_loss: 0.0800\n",
            "Epoch 10/25\n",
            "\u001b[1m220/220\u001b[0m \u001b[32m━━━━━━━━━━━━━━━━━━━━\u001b[0m\u001b[37m\u001b[0m \u001b[1m6s\u001b[0m 27ms/step - auc_6: 0.8539 - loss: 0.0795 - val_auc_6: 0.8693 - val_loss: 0.0780\n",
            "Epoch 11/25\n",
            "\u001b[1m220/220\u001b[0m \u001b[32m━━━━━━━━━━━━━━━━━━━━\u001b[0m\u001b[37m\u001b[0m \u001b[1m4s\u001b[0m 19ms/step - auc_6: 0.8672 - loss: 0.0774 - val_auc_6: 0.8733 - val_loss: 0.0759\n",
            "Epoch 12/25\n",
            "\u001b[1m220/220\u001b[0m \u001b[32m━━━━━━━━━━━━━━━━━━━━\u001b[0m\u001b[37m\u001b[0m \u001b[1m4s\u001b[0m 18ms/step - auc_6: 0.8794 - loss: 0.0753 - val_auc_6: 0.8823 - val_loss: 0.0736\n",
            "Epoch 13/25\n",
            "\u001b[1m220/220\u001b[0m \u001b[32m━━━━━━━━━━━━━━━━━━━━\u001b[0m\u001b[37m\u001b[0m \u001b[1m7s\u001b[0m 27ms/step - auc_6: 0.8889 - loss: 0.0731 - val_auc_6: 0.9046 - val_loss: 0.0712\n",
            "Epoch 14/25\n",
            "\u001b[1m220/220\u001b[0m \u001b[32m━━━━━━━━━━━━━━━━━━━━\u001b[0m\u001b[37m\u001b[0m \u001b[1m4s\u001b[0m 19ms/step - auc_6: 0.9042 - loss: 0.0706 - val_auc_6: 0.9131 - val_loss: 0.0689\n",
            "Epoch 15/25\n",
            "\u001b[1m220/220\u001b[0m \u001b[32m━━━━━━━━━━━━━━━━━━━━\u001b[0m\u001b[37m\u001b[0m \u001b[1m6s\u001b[0m 22ms/step - auc_6: 0.9136 - loss: 0.0683 - val_auc_6: 0.9188 - val_loss: 0.0665\n",
            "Epoch 16/25\n",
            "\u001b[1m220/220\u001b[0m \u001b[32m━━━━━━━━━━━━━━━━━━━━\u001b[0m\u001b[37m\u001b[0m \u001b[1m5s\u001b[0m 22ms/step - auc_6: 0.9214 - loss: 0.0661 - val_auc_6: 0.9278 - val_loss: 0.0641\n",
            "Epoch 17/25\n",
            "\u001b[1m220/220\u001b[0m \u001b[32m━━━━━━━━━━━━━━━━━━━━\u001b[0m\u001b[37m\u001b[0m \u001b[1m4s\u001b[0m 18ms/step - auc_6: 0.9281 - loss: 0.0635 - val_auc_6: 0.9354 - val_loss: 0.0619\n",
            "Epoch 18/25\n",
            "\u001b[1m220/220\u001b[0m \u001b[32m━━━━━━━━━━━━━━━━━━━━\u001b[0m\u001b[37m\u001b[0m \u001b[1m6s\u001b[0m 24ms/step - auc_6: 0.9350 - loss: 0.0614 - val_auc_6: 0.9417 - val_loss: 0.0597\n",
            "Epoch 19/25\n",
            "\u001b[1m220/220\u001b[0m \u001b[32m━━━━━━━━━━━━━━━━━━━━\u001b[0m\u001b[37m\u001b[0m \u001b[1m9s\u001b[0m 18ms/step - auc_6: 0.9402 - loss: 0.0593 - val_auc_6: 0.9449 - val_loss: 0.0576\n",
            "Epoch 20/25\n",
            "\u001b[1m220/220\u001b[0m \u001b[32m━━━━━━━━━━━━━━━━━━━━\u001b[0m\u001b[37m\u001b[0m \u001b[1m7s\u001b[0m 25ms/step - auc_6: 0.9445 - loss: 0.0572 - val_auc_6: 0.9499 - val_loss: 0.0557\n",
            "Epoch 21/25\n",
            "\u001b[1m220/220\u001b[0m \u001b[32m━━━━━━━━━━━━━━━━━━━━\u001b[0m\u001b[37m\u001b[0m \u001b[1m4s\u001b[0m 19ms/step - auc_6: 0.9475 - loss: 0.0556 - val_auc_6: 0.9514 - val_loss: 0.0539\n",
            "Epoch 22/25\n",
            "\u001b[1m220/220\u001b[0m \u001b[32m━━━━━━━━━━━━━━━━━━━━\u001b[0m\u001b[37m\u001b[0m \u001b[1m4s\u001b[0m 18ms/step - auc_6: 0.9507 - loss: 0.0536 - val_auc_6: 0.9544 - val_loss: 0.0521\n",
            "Epoch 23/25\n",
            "\u001b[1m220/220\u001b[0m \u001b[32m━━━━━━━━━━━━━━━━━━━━\u001b[0m\u001b[37m\u001b[0m \u001b[1m6s\u001b[0m 24ms/step - auc_6: 0.9537 - loss: 0.0520 - val_auc_6: 0.9576 - val_loss: 0.0505\n",
            "Epoch 24/25\n",
            "\u001b[1m220/220\u001b[0m \u001b[32m━━━━━━━━━━━━━━━━━━━━\u001b[0m\u001b[37m\u001b[0m \u001b[1m4s\u001b[0m 19ms/step - auc_6: 0.9559 - loss: 0.0506 - val_auc_6: 0.9589 - val_loss: 0.0490\n",
            "Epoch 25/25\n",
            "\u001b[1m220/220\u001b[0m \u001b[32m━━━━━━━━━━━━━━━━━━━━\u001b[0m\u001b[37m\u001b[0m \u001b[1m6s\u001b[0m 23ms/step - auc_6: 0.9584 - loss: 0.0489 - val_auc_6: 0.9614 - val_loss: 0.0476\n",
            "\u001b[1m657/657\u001b[0m \u001b[32m━━━━━━━━━━━━━━━━━━━━\u001b[0m\u001b[37m\u001b[0m \u001b[1m3s\u001b[0m 4ms/step - auc_6: 0.9594 - loss: 0.0481\n",
            "Test Loss: 0.0470\n",
            "Test AUC: 96.26%\n"
          ]
        }
      ]
    },
    {
      "cell_type": "markdown",
      "source": [
        "Plot the AUC over epochs"
      ],
      "metadata": {
        "id": "beK4xq046_0j"
      }
    },
    {
      "cell_type": "code",
      "source": [
        "import matplotlib.pyplot as plt\n",
        "\n",
        "# Extract the AUC values for training and validation\n",
        "train_auc = history.history['auc_6']\n",
        "val_auc = history.history['val_auc_6']\n",
        "\n",
        "epochs = range(1, len(val_auc) + 1)\n",
        "\n",
        "# Plot the AUC values for both validation and test sets\n",
        "plt.plot(epochs, train_auc, label='Training')\n",
        "plt.plot(epochs, val_auc, label='Validation')\n",
        "\n",
        "# Labeling the plot\n",
        "plt.title('AUC over Epochs')\n",
        "plt.xlabel('Epochs')\n",
        "plt.ylabel('AUC')\n",
        "plt.legend()\n",
        "plt.show()"
      ],
      "metadata": {
        "colab": {
          "base_uri": "https://localhost:8080/",
          "height": 472
        },
        "id": "_EcHVFsH69ua",
        "outputId": "03dc9063-aa02-41b0-99e5-ad06c05eaba0"
      },
      "execution_count": 40,
      "outputs": [
        {
          "output_type": "display_data",
          "data": {
            "text/plain": [
              "<Figure size 640x480 with 1 Axes>"
            ],
            "image/png": "[encoded data removed]"
          },
          "metadata": {}
        }
      ]
    }
  ]
}